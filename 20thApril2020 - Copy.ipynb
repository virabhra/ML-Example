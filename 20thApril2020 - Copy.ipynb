{
 "cells": [
  {
   "cell_type": "code",
   "execution_count": 10,
   "metadata": {},
   "outputs": [],
   "source": [
    "import pyodbc\n",
    "import pandas as pd\n",
    "import numpy as np"
   ]
  },
  {
   "cell_type": "code",
   "execution_count": 9,
   "metadata": {},
   "outputs": [],
   "source": [
    "data=pd.read_csv('copy.csv')"
   ]
  },
  {
   "cell_type": "code",
   "execution_count": 5,
   "metadata": {},
   "outputs": [],
   "source": [
    "col=['a','b','c','d','e']\n",
    "data2_ind_v=data[col]"
   ]
  },
  {
   "cell_type": "code",
   "execution_count": 7,
   "metadata": {},
   "outputs": [],
   "source": [
    "corr=data2_ind_v.corr()"
   ]
  },
  {
   "cell_type": "code",
   "execution_count": 8,
   "metadata": {},
   "outputs": [
    {
     "data": {
      "text/html": [
       "<div>\n",
       "<style scoped>\n",
       "    .dataframe tbody tr th:only-of-type {\n",
       "        vertical-align: middle;\n",
       "    }\n",
       "\n",
       "    .dataframe tbody tr th {\n",
       "        vertical-align: top;\n",
       "    }\n",
       "\n",
       "    .dataframe thead th {\n",
       "        text-align: right;\n",
       "    }\n",
       "</style>\n",
       "<table border=\"1\" class=\"dataframe\">\n",
       "  <thead>\n",
       "    <tr style=\"text-align: right;\">\n",
       "      <th></th>\n",
       "      <th>a</th>\n",
       "      <th>b</th>\n",
       "      <th>c</th>\n",
       "      <th>d</th>\n",
       "      <th>e</th>\n",
       "    </tr>\n",
       "  </thead>\n",
       "  <tbody>\n",
       "    <tr>\n",
       "      <th>a</th>\n",
       "      <td>1.000000</td>\n",
       "      <td>0.786993</td>\n",
       "      <td>0.500901</td>\n",
       "      <td>0.657109</td>\n",
       "      <td>0.520708</td>\n",
       "    </tr>\n",
       "    <tr>\n",
       "      <th>b</th>\n",
       "      <td>0.786993</td>\n",
       "      <td>1.000000</td>\n",
       "      <td>0.581630</td>\n",
       "      <td>0.770731</td>\n",
       "      <td>0.611482</td>\n",
       "    </tr>\n",
       "    <tr>\n",
       "      <th>c</th>\n",
       "      <td>0.500901</td>\n",
       "      <td>0.581630</td>\n",
       "      <td>1.000000</td>\n",
       "      <td>0.607538</td>\n",
       "      <td>0.466205</td>\n",
       "    </tr>\n",
       "    <tr>\n",
       "      <th>d</th>\n",
       "      <td>0.657109</td>\n",
       "      <td>0.770731</td>\n",
       "      <td>0.607538</td>\n",
       "      <td>1.000000</td>\n",
       "      <td>0.654206</td>\n",
       "    </tr>\n",
       "    <tr>\n",
       "      <th>e</th>\n",
       "      <td>0.520708</td>\n",
       "      <td>0.611482</td>\n",
       "      <td>0.466205</td>\n",
       "      <td>0.654206</td>\n",
       "      <td>1.000000</td>\n",
       "    </tr>\n",
       "  </tbody>\n",
       "</table>\n",
       "</div>"
      ],
      "text/plain": [
       "          a         b         c         d         e\n",
       "a  1.000000  0.786993  0.500901  0.657109  0.520708\n",
       "b  0.786993  1.000000  0.581630  0.770731  0.611482\n",
       "c  0.500901  0.581630  1.000000  0.607538  0.466205\n",
       "d  0.657109  0.770731  0.607538  1.000000  0.654206\n",
       "e  0.520708  0.611482  0.466205  0.654206  1.000000"
      ]
     },
     "execution_count": 8,
     "metadata": {},
     "output_type": "execute_result"
    }
   ],
   "source": [
    "corr"
   ]
  },
  {
   "cell_type": "code",
   "execution_count": 179,
   "metadata": {},
   "outputs": [],
   "source": [
    "feature=data2.iloc[:,:-1].values\n",
    "labels=data2.iloc[:,-1].values"
   ]
  },
  {
   "cell_type": "code",
   "execution_count": 180,
   "metadata": {},
   "outputs": [],
   "source": [
    "#set random\n",
    "np.random.seed(0)  \n",
    "\n",
    "# Splitting the dataset into the Training set and Test set\n",
    "from sklearn.model_selection import train_test_split\n",
    "X_train, X_test, y_train, y_test = train_test_split(feature,labels,test_size=0.20, random_state=0)"
   ]
  },
  {
   "cell_type": "code",
   "execution_count": 181,
   "metadata": {},
   "outputs": [],
   "source": [
    "# Feature Scaling\n",
    "from sklearn.preprocessing import StandardScaler\n",
    "sc=StandardScaler()\n",
    "X_train=sc.fit_transform(X_train)\n",
    "X_test=sc.transform(X_test)"
   ]
  },
  {
   "cell_type": "code",
   "execution_count": 182,
   "metadata": {},
   "outputs": [],
   "source": [
    "# XGBoost model\n",
    "from xgboost import XGBClassifier\n",
    "from sklearn.metrics import accuracy_score"
   ]
  },
  {
   "cell_type": "code",
   "execution_count": 183,
   "metadata": {},
   "outputs": [
    {
     "name": "stdout",
     "output_type": "stream",
     "text": [
      "[0]\tvalidation_0-error:0.028249\tvalidation_0-logloss:0.646161\tvalidation_1-error:0.028548\tvalidation_1-logloss:0.648684\n",
      "Multiple eval metrics have been passed: 'validation_1-logloss' will be used for early stopping.\n",
      "\n",
      "Will train until validation_1-logloss hasn't improved in 10 rounds.\n",
      "[1]\tvalidation_0-error:0.028249\tvalidation_0-logloss:0.606105\tvalidation_1-error:0.028548\tvalidation_1-logloss:0.608505\n",
      "[2]\tvalidation_0-error:0.028249\tvalidation_0-logloss:0.572415\tvalidation_1-error:0.028548\tvalidation_1-logloss:0.571036\n",
      "[3]\tvalidation_0-error:0.028249\tvalidation_0-logloss:0.540178\tvalidation_1-error:0.028548\tvalidation_1-logloss:0.537846\n",
      "[4]\tvalidation_0-error:0.028249\tvalidation_0-logloss:0.506023\tvalidation_1-error:0.028548\tvalidation_1-logloss:0.506893\n",
      "[5]\tvalidation_0-error:0.028249\tvalidation_0-logloss:0.477812\tvalidation_1-error:0.028548\tvalidation_1-logloss:0.479429\n",
      "[6]\tvalidation_0-error:0.028249\tvalidation_0-logloss:0.453824\tvalidation_1-error:0.028548\tvalidation_1-logloss:0.453088\n",
      "[7]\tvalidation_0-error:0.028249\tvalidation_0-logloss:0.429807\tvalidation_1-error:0.028548\tvalidation_1-logloss:0.429367\n",
      "[8]\tvalidation_0-error:0.028249\tvalidation_0-logloss:0.406343\tvalidation_1-error:0.028548\tvalidation_1-logloss:0.406926\n",
      "[9]\tvalidation_0-error:0.028249\tvalidation_0-logloss:0.387145\tvalidation_1-error:0.028548\tvalidation_1-logloss:0.386438\n",
      "[10]\tvalidation_0-error:0.028249\tvalidation_0-logloss:0.367077\tvalidation_1-error:0.028548\tvalidation_1-logloss:0.366893\n",
      "[11]\tvalidation_0-error:0.026003\tvalidation_0-logloss:0.349584\tvalidation_1-error:0.026586\tvalidation_1-logloss:0.348907\n",
      "[12]\tvalidation_0-error:0.026003\tvalidation_0-logloss:0.331872\tvalidation_1-error:0.026586\tvalidation_1-logloss:0.332533\n",
      "[13]\tvalidation_0-error:0.026003\tvalidation_0-logloss:0.316187\tvalidation_1-error:0.026586\tvalidation_1-logloss:0.316888\n",
      "[14]\tvalidation_0-error:0.025555\tvalidation_0-logloss:0.301722\tvalidation_1-error:0.026133\tvalidation_1-logloss:0.302182\n",
      "[15]\tvalidation_0-error:0.025555\tvalidation_0-logloss:0.287851\tvalidation_1-error:0.026133\tvalidation_1-logloss:0.28913\n",
      "[16]\tvalidation_0-error:0.025555\tvalidation_0-logloss:0.275\tvalidation_1-error:0.026133\tvalidation_1-logloss:0.275997\n",
      "[17]\tvalidation_0-error:0.025562\tvalidation_0-logloss:0.263927\tvalidation_1-error:0.026133\tvalidation_1-logloss:0.264271\n",
      "[18]\tvalidation_0-error:0.025562\tvalidation_0-logloss:0.25211\tvalidation_1-error:0.026133\tvalidation_1-logloss:0.253217\n",
      "[19]\tvalidation_0-error:0.025567\tvalidation_0-logloss:0.24223\tvalidation_1-error:0.026133\tvalidation_1-logloss:0.242426\n",
      "[20]\tvalidation_0-error:0.02556\tvalidation_0-logloss:0.231676\tvalidation_1-error:0.026133\tvalidation_1-logloss:0.232273\n",
      "[21]\tvalidation_0-error:0.025555\tvalidation_0-logloss:0.22241\tvalidation_1-error:0.026133\tvalidation_1-logloss:0.223019\n",
      "[22]\tvalidation_0-error:0.025484\tvalidation_0-logloss:0.213335\tvalidation_1-error:0.026023\tvalidation_1-logloss:0.2141\n",
      "[23]\tvalidation_0-error:0.025484\tvalidation_0-logloss:0.205351\tvalidation_1-error:0.026023\tvalidation_1-logloss:0.205757\n",
      "[24]\tvalidation_0-error:0.025484\tvalidation_0-logloss:0.196984\tvalidation_1-error:0.026023\tvalidation_1-logloss:0.198102\n",
      "[25]\tvalidation_0-error:0.025399\tvalidation_0-logloss:0.18938\tvalidation_1-error:0.025811\tvalidation_1-logloss:0.190281\n",
      "[26]\tvalidation_0-error:0.011942\tvalidation_0-logloss:0.182775\tvalidation_1-error:0.012035\tvalidation_1-logloss:0.183165\n",
      "[27]\tvalidation_0-error:0.025401\tvalidation_0-logloss:0.175265\tvalidation_1-error:0.025801\tvalidation_1-logloss:0.176035\n",
      "[28]\tvalidation_0-error:0.011884\tvalidation_0-logloss:0.168522\tvalidation_1-error:0.011985\tvalidation_1-logloss:0.169905\n",
      "[29]\tvalidation_0-error:0.011884\tvalidation_0-logloss:0.163124\tvalidation_1-error:0.011985\tvalidation_1-logloss:0.163258\n",
      "[30]\tvalidation_0-error:0.011872\tvalidation_0-logloss:0.156881\tvalidation_1-error:0.011955\tvalidation_1-logloss:0.157671\n",
      "[31]\tvalidation_0-error:0.011872\tvalidation_0-logloss:0.151439\tvalidation_1-error:0.011955\tvalidation_1-logloss:0.151868\n",
      "[32]\tvalidation_0-error:0.011872\tvalidation_0-logloss:0.145695\tvalidation_1-error:0.011955\tvalidation_1-logloss:0.146934\n",
      "[33]\tvalidation_0-error:0.011872\tvalidation_0-logloss:0.14068\tvalidation_1-error:0.011955\tvalidation_1-logloss:0.141699\n",
      "[34]\tvalidation_0-error:0.011872\tvalidation_0-logloss:0.136504\tvalidation_1-error:0.011955\tvalidation_1-logloss:0.137043\n",
      "[35]\tvalidation_0-error:0.011872\tvalidation_0-logloss:0.131933\tvalidation_1-error:0.011955\tvalidation_1-logloss:0.132713\n",
      "[36]\tvalidation_0-error:0.011854\tvalidation_0-logloss:0.127783\tvalidation_1-error:0.011955\tvalidation_1-logloss:0.128241\n",
      "[37]\tvalidation_0-error:0.010463\tvalidation_0-logloss:0.123285\tvalidation_1-error:0.010808\tvalidation_1-logloss:0.123719\n",
      "[38]\tvalidation_0-error:0.010463\tvalidation_0-logloss:0.11958\tvalidation_1-error:0.010808\tvalidation_1-logloss:0.119968\n",
      "[39]\tvalidation_0-error:0.01046\tvalidation_0-logloss:0.115584\tvalidation_1-error:0.010808\tvalidation_1-logloss:0.116181\n",
      "[40]\tvalidation_0-error:0.01046\tvalidation_0-logloss:0.112443\tvalidation_1-error:0.010808\tvalidation_1-logloss:0.112715\n",
      "[41]\tvalidation_0-error:0.009965\tvalidation_0-logloss:0.108531\tvalidation_1-error:0.010425\tvalidation_1-logloss:0.10918\n",
      "[42]\tvalidation_0-error:0.009965\tvalidation_0-logloss:0.105125\tvalidation_1-error:0.010425\tvalidation_1-logloss:0.10599\n",
      "[43]\tvalidation_0-error:0.009965\tvalidation_0-logloss:0.101989\tvalidation_1-error:0.010425\tvalidation_1-logloss:0.102753\n",
      "[44]\tvalidation_0-error:0.009962\tvalidation_0-logloss:0.09928\tvalidation_1-error:0.010435\tvalidation_1-logloss:0.100021\n",
      "[45]\tvalidation_0-error:0.009839\tvalidation_0-logloss:0.096424\tvalidation_1-error:0.010355\tvalidation_1-logloss:0.097089\n",
      "[46]\tvalidation_0-error:0.009839\tvalidation_0-logloss:0.093799\tvalidation_1-error:0.010355\tvalidation_1-logloss:0.094409\n",
      "[47]\tvalidation_0-error:0.009952\tvalidation_0-logloss:0.090909\tvalidation_1-error:0.010425\tvalidation_1-logloss:0.091834\n",
      "[48]\tvalidation_0-error:0.009834\tvalidation_0-logloss:0.0886\tvalidation_1-error:0.010345\tvalidation_1-logloss:0.089599\n",
      "[49]\tvalidation_0-error:0.009814\tvalidation_0-logloss:0.086172\tvalidation_1-error:0.010314\tvalidation_1-logloss:0.087043\n",
      "[50]\tvalidation_0-error:0.009814\tvalidation_0-logloss:0.084011\tvalidation_1-error:0.010314\tvalidation_1-logloss:0.084927\n",
      "[51]\tvalidation_0-error:0.009834\tvalidation_0-logloss:0.081933\tvalidation_1-error:0.010345\tvalidation_1-logloss:0.082691\n",
      "[52]\tvalidation_0-error:0.009932\tvalidation_0-logloss:0.079772\tvalidation_1-error:0.010395\tvalidation_1-logloss:0.080624\n",
      "[53]\tvalidation_0-error:0.009932\tvalidation_0-logloss:0.077736\tvalidation_1-error:0.010395\tvalidation_1-logloss:0.078857\n",
      "[54]\tvalidation_0-error:0.009932\tvalidation_0-logloss:0.075661\tvalidation_1-error:0.010395\tvalidation_1-logloss:0.076702\n",
      "[55]\tvalidation_0-error:0.009814\tvalidation_0-logloss:0.074422\tvalidation_1-error:0.010314\tvalidation_1-logloss:0.075028\n",
      "[56]\tvalidation_0-error:0.009814\tvalidation_0-logloss:0.072734\tvalidation_1-error:0.010314\tvalidation_1-logloss:0.073413\n",
      "[57]\tvalidation_0-error:0.009814\tvalidation_0-logloss:0.070682\tvalidation_1-error:0.010314\tvalidation_1-logloss:0.071598\n",
      "[58]\tvalidation_0-error:0.009814\tvalidation_0-logloss:0.06912\tvalidation_1-error:0.010314\tvalidation_1-logloss:0.070088\n",
      "[59]\tvalidation_0-error:0.009814\tvalidation_0-logloss:0.067786\tvalidation_1-error:0.010314\tvalidation_1-logloss:0.068608\n",
      "[60]\tvalidation_0-error:0.009809\tvalidation_0-logloss:0.06622\tvalidation_1-error:0.010314\tvalidation_1-logloss:0.067177\n",
      "[61]\tvalidation_0-error:0.009932\tvalidation_0-logloss:0.064579\tvalidation_1-error:0.010395\tvalidation_1-logloss:0.065801\n",
      "[62]\tvalidation_0-error:0.009809\tvalidation_0-logloss:0.063663\tvalidation_1-error:0.010314\tvalidation_1-logloss:0.064546\n",
      "[63]\tvalidation_0-error:0.009801\tvalidation_0-logloss:0.062014\tvalidation_1-error:0.010314\tvalidation_1-logloss:0.063041\n",
      "[64]\tvalidation_0-error:0.009809\tvalidation_0-logloss:0.061106\tvalidation_1-error:0.010314\tvalidation_1-logloss:0.06192\n",
      "[65]\tvalidation_0-error:0.009804\tvalidation_0-logloss:0.059466\tvalidation_1-error:0.010304\tvalidation_1-logloss:0.060536\n",
      "[66]\tvalidation_0-error:0.009804\tvalidation_0-logloss:0.058667\tvalidation_1-error:0.010304\tvalidation_1-logloss:0.059546\n"
     ]
    },
    {
     "name": "stdout",
     "output_type": "stream",
     "text": [
      "[67]\tvalidation_0-error:0.009809\tvalidation_0-logloss:0.057243\tvalidation_1-error:0.010314\tvalidation_1-logloss:0.058438\n",
      "[68]\tvalidation_0-error:0.009804\tvalidation_0-logloss:0.056129\tvalidation_1-error:0.010304\tvalidation_1-logloss:0.057157\n",
      "[69]\tvalidation_0-error:0.009804\tvalidation_0-logloss:0.055309\tvalidation_1-error:0.010325\tvalidation_1-logloss:0.056274\n",
      "[70]\tvalidation_0-error:0.009796\tvalidation_0-logloss:0.054318\tvalidation_1-error:0.010325\tvalidation_1-logloss:0.055339\n",
      "[71]\tvalidation_0-error:0.009804\tvalidation_0-logloss:0.053421\tvalidation_1-error:0.010325\tvalidation_1-logloss:0.054372\n",
      "[72]\tvalidation_0-error:0.009796\tvalidation_0-logloss:0.052572\tvalidation_1-error:0.010325\tvalidation_1-logloss:0.053532\n",
      "[73]\tvalidation_0-error:0.009796\tvalidation_0-logloss:0.051493\tvalidation_1-error:0.010325\tvalidation_1-logloss:0.052485\n",
      "[74]\tvalidation_0-error:0.009776\tvalidation_0-logloss:0.050474\tvalidation_1-error:0.010314\tvalidation_1-logloss:0.051516\n",
      "[75]\tvalidation_0-error:0.009776\tvalidation_0-logloss:0.049674\tvalidation_1-error:0.010314\tvalidation_1-logloss:0.050746\n",
      "[76]\tvalidation_0-error:0.009796\tvalidation_0-logloss:0.048939\tvalidation_1-error:0.010325\tvalidation_1-logloss:0.049999\n",
      "[77]\tvalidation_0-error:0.009784\tvalidation_0-logloss:0.048097\tvalidation_1-error:0.010284\tvalidation_1-logloss:0.049201\n",
      "[78]\tvalidation_0-error:0.009764\tvalidation_0-logloss:0.047324\tvalidation_1-error:0.010274\tvalidation_1-logloss:0.048286\n",
      "[79]\tvalidation_0-error:0.009718\tvalidation_0-logloss:0.04647\tvalidation_1-error:0.010234\tvalidation_1-logloss:0.047513\n",
      "[80]\tvalidation_0-error:0.009718\tvalidation_0-logloss:0.04585\tvalidation_1-error:0.010234\tvalidation_1-logloss:0.046878\n",
      "[81]\tvalidation_0-error:0.009575\tvalidation_0-logloss:0.045076\tvalidation_1-error:0.010033\tvalidation_1-logloss:0.046325\n",
      "[82]\tvalidation_0-error:0.009575\tvalidation_0-logloss:0.044588\tvalidation_1-error:0.010033\tvalidation_1-logloss:0.045678\n",
      "[83]\tvalidation_0-error:0.009575\tvalidation_0-logloss:0.043954\tvalidation_1-error:0.010033\tvalidation_1-logloss:0.044909\n",
      "[84]\tvalidation_0-error:0.007457\tvalidation_0-logloss:0.043167\tvalidation_1-error:0.008221\tvalidation_1-logloss:0.044326\n",
      "[85]\tvalidation_0-error:0.007457\tvalidation_0-logloss:0.042717\tvalidation_1-error:0.008221\tvalidation_1-logloss:0.043805\n",
      "[86]\tvalidation_0-error:0.007457\tvalidation_0-logloss:0.042395\tvalidation_1-error:0.008221\tvalidation_1-logloss:0.043322\n",
      "[87]\tvalidation_0-error:0.007457\tvalidation_0-logloss:0.041453\tvalidation_1-error:0.008221\tvalidation_1-logloss:0.04267\n",
      "[88]\tvalidation_0-error:0.007462\tvalidation_0-logloss:0.041046\tvalidation_1-error:0.008231\tvalidation_1-logloss:0.04214\n",
      "[89]\tvalidation_0-error:0.007457\tvalidation_0-logloss:0.040468\tvalidation_1-error:0.008221\tvalidation_1-logloss:0.041451\n",
      "[90]\tvalidation_0-error:0.007462\tvalidation_0-logloss:0.039934\tvalidation_1-error:0.008231\tvalidation_1-logloss:0.041047\n",
      "[91]\tvalidation_0-error:0.007462\tvalidation_0-logloss:0.039341\tvalidation_1-error:0.008231\tvalidation_1-logloss:0.040571\n",
      "[92]\tvalidation_0-error:0.007457\tvalidation_0-logloss:0.038888\tvalidation_1-error:0.008221\tvalidation_1-logloss:0.040005\n",
      "[93]\tvalidation_0-error:0.007457\tvalidation_0-logloss:0.038613\tvalidation_1-error:0.008221\tvalidation_1-logloss:0.039615\n",
      "[94]\tvalidation_0-error:0.007462\tvalidation_0-logloss:0.038112\tvalidation_1-error:0.008231\tvalidation_1-logloss:0.039273\n",
      "[95]\tvalidation_0-error:0.007462\tvalidation_0-logloss:0.037795\tvalidation_1-error:0.008231\tvalidation_1-logloss:0.03894\n",
      "[96]\tvalidation_0-error:0.007462\tvalidation_0-logloss:0.037339\tvalidation_1-error:0.008231\tvalidation_1-logloss:0.038603\n",
      "[97]\tvalidation_0-error:0.007459\tvalidation_0-logloss:0.037017\tvalidation_1-error:0.008231\tvalidation_1-logloss:0.038196\n",
      "[98]\tvalidation_0-error:0.007454\tvalidation_0-logloss:0.036562\tvalidation_1-error:0.008221\tvalidation_1-logloss:0.037681\n",
      "[99]\tvalidation_0-error:0.007454\tvalidation_0-logloss:0.036102\tvalidation_1-error:0.008221\tvalidation_1-logloss:0.037283\n",
      "[100]\tvalidation_0-error:0.007454\tvalidation_0-logloss:0.035716\tvalidation_1-error:0.008231\tvalidation_1-logloss:0.03691\n",
      "[101]\tvalidation_0-error:0.007454\tvalidation_0-logloss:0.035463\tvalidation_1-error:0.008231\tvalidation_1-logloss:0.036594\n",
      "[102]\tvalidation_0-error:0.007447\tvalidation_0-logloss:0.035186\tvalidation_1-error:0.008221\tvalidation_1-logloss:0.036332\n",
      "[103]\tvalidation_0-error:0.007437\tvalidation_0-logloss:0.034809\tvalidation_1-error:0.008211\tvalidation_1-logloss:0.035903\n",
      "[104]\tvalidation_0-error:0.007437\tvalidation_0-logloss:0.034361\tvalidation_1-error:0.008211\tvalidation_1-logloss:0.035581\n",
      "[105]\tvalidation_0-error:0.007424\tvalidation_0-logloss:0.033993\tvalidation_1-error:0.008151\tvalidation_1-logloss:0.035139\n",
      "[106]\tvalidation_0-error:0.007424\tvalidation_0-logloss:0.033595\tvalidation_1-error:0.008151\tvalidation_1-logloss:0.034819\n",
      "[107]\tvalidation_0-error:0.007424\tvalidation_0-logloss:0.033327\tvalidation_1-error:0.008151\tvalidation_1-logloss:0.034548\n",
      "[108]\tvalidation_0-error:0.007424\tvalidation_0-logloss:0.033089\tvalidation_1-error:0.008151\tvalidation_1-logloss:0.03431\n",
      "[109]\tvalidation_0-error:0.007424\tvalidation_0-logloss:0.032802\tvalidation_1-error:0.008151\tvalidation_1-logloss:0.033948\n",
      "[110]\tvalidation_0-error:0.007424\tvalidation_0-logloss:0.032565\tvalidation_1-error:0.008151\tvalidation_1-logloss:0.033722\n",
      "[111]\tvalidation_0-error:0.007421\tvalidation_0-logloss:0.032365\tvalidation_1-error:0.008151\tvalidation_1-logloss:0.033536\n",
      "[112]\tvalidation_0-error:0.007424\tvalidation_0-logloss:0.032165\tvalidation_1-error:0.008151\tvalidation_1-logloss:0.033302\n",
      "[113]\tvalidation_0-error:0.007424\tvalidation_0-logloss:0.031814\tvalidation_1-error:0.008151\tvalidation_1-logloss:0.032979\n",
      "[114]\tvalidation_0-error:0.007421\tvalidation_0-logloss:0.031522\tvalidation_1-error:0.008151\tvalidation_1-logloss:0.032649\n",
      "[115]\tvalidation_0-error:0.007421\tvalidation_0-logloss:0.031242\tvalidation_1-error:0.008151\tvalidation_1-logloss:0.032365\n",
      "[116]\tvalidation_0-error:0.007411\tvalidation_0-logloss:0.030932\tvalidation_1-error:0.008141\tvalidation_1-logloss:0.032208\n",
      "[117]\tvalidation_0-error:0.007411\tvalidation_0-logloss:0.030752\tvalidation_1-error:0.008141\tvalidation_1-logloss:0.032029\n",
      "[118]\tvalidation_0-error:0.007411\tvalidation_0-logloss:0.030448\tvalidation_1-error:0.008141\tvalidation_1-logloss:0.031733\n",
      "[119]\tvalidation_0-error:0.007411\tvalidation_0-logloss:0.030336\tvalidation_1-error:0.008141\tvalidation_1-logloss:0.031585\n",
      "[120]\tvalidation_0-error:0.007411\tvalidation_0-logloss:0.030154\tvalidation_1-error:0.008141\tvalidation_1-logloss:0.031422\n",
      "[121]\tvalidation_0-error:0.007411\tvalidation_0-logloss:0.029832\tvalidation_1-error:0.008141\tvalidation_1-logloss:0.031136\n",
      "[122]\tvalidation_0-error:0.007411\tvalidation_0-logloss:0.029718\tvalidation_1-error:0.008141\tvalidation_1-logloss:0.030981\n",
      "[123]\tvalidation_0-error:0.007406\tvalidation_0-logloss:0.029601\tvalidation_1-error:0.008121\tvalidation_1-logloss:0.030834\n",
      "[124]\tvalidation_0-error:0.007404\tvalidation_0-logloss:0.029345\tvalidation_1-error:0.008121\tvalidation_1-logloss:0.030577\n",
      "[125]\tvalidation_0-error:0.007399\tvalidation_0-logloss:0.029186\tvalidation_1-error:0.008121\tvalidation_1-logloss:0.030442\n",
      "[126]\tvalidation_0-error:0.007399\tvalidation_0-logloss:0.028989\tvalidation_1-error:0.008121\tvalidation_1-logloss:0.030217\n",
      "[127]\tvalidation_0-error:0.007399\tvalidation_0-logloss:0.028873\tvalidation_1-error:0.008121\tvalidation_1-logloss:0.03007\n",
      "[128]\tvalidation_0-error:0.007396\tvalidation_0-logloss:0.028696\tvalidation_1-error:0.008121\tvalidation_1-logloss:0.029899\n",
      "[129]\tvalidation_0-error:0.007391\tvalidation_0-logloss:0.028593\tvalidation_1-error:0.008111\tvalidation_1-logloss:0.029782\n",
      "[130]\tvalidation_0-error:0.007394\tvalidation_0-logloss:0.028431\tvalidation_1-error:0.008111\tvalidation_1-logloss:0.029676\n",
      "[131]\tvalidation_0-error:0.007391\tvalidation_0-logloss:0.02832\tvalidation_1-error:0.008111\tvalidation_1-logloss:0.029571\n",
      "[132]\tvalidation_0-error:0.007394\tvalidation_0-logloss:0.028112\tvalidation_1-error:0.008111\tvalidation_1-logloss:0.029346\n",
      "[133]\tvalidation_0-error:0.007391\tvalidation_0-logloss:0.02794\tvalidation_1-error:0.008111\tvalidation_1-logloss:0.029187\n",
      "[134]\tvalidation_0-error:0.007394\tvalidation_0-logloss:0.027857\tvalidation_1-error:0.008111\tvalidation_1-logloss:0.029078\n"
     ]
    },
    {
     "name": "stdout",
     "output_type": "stream",
     "text": [
      "[135]\tvalidation_0-error:0.007396\tvalidation_0-logloss:0.027648\tvalidation_1-error:0.008111\tvalidation_1-logloss:0.028885\n",
      "[136]\tvalidation_0-error:0.007396\tvalidation_0-logloss:0.027492\tvalidation_1-error:0.008111\tvalidation_1-logloss:0.028792\n",
      "[137]\tvalidation_0-error:0.007396\tvalidation_0-logloss:0.027477\tvalidation_1-error:0.008111\tvalidation_1-logloss:0.028703\n",
      "[138]\tvalidation_0-error:0.007396\tvalidation_0-logloss:0.027223\tvalidation_1-error:0.008111\tvalidation_1-logloss:0.028481\n",
      "[139]\tvalidation_0-error:0.007396\tvalidation_0-logloss:0.027025\tvalidation_1-error:0.008111\tvalidation_1-logloss:0.028258\n",
      "[140]\tvalidation_0-error:0.007399\tvalidation_0-logloss:0.026783\tvalidation_1-error:0.008111\tvalidation_1-logloss:0.028108\n",
      "[141]\tvalidation_0-error:0.007399\tvalidation_0-logloss:0.02673\tvalidation_1-error:0.008111\tvalidation_1-logloss:0.028027\n",
      "[142]\tvalidation_0-error:0.00725\tvalidation_0-logloss:0.026517\tvalidation_1-error:0.00796\tvalidation_1-logloss:0.02783\n",
      "[143]\tvalidation_0-error:0.00725\tvalidation_0-logloss:0.02644\tvalidation_1-error:0.00796\tvalidation_1-logloss:0.027757\n",
      "[144]\tvalidation_0-error:0.00725\tvalidation_0-logloss:0.026371\tvalidation_1-error:0.00796\tvalidation_1-logloss:0.027683\n",
      "[145]\tvalidation_0-error:0.007396\tvalidation_0-logloss:0.026183\tvalidation_1-error:0.008111\tvalidation_1-logloss:0.027525\n",
      "[146]\tvalidation_0-error:0.007253\tvalidation_0-logloss:0.026019\tvalidation_1-error:0.00796\tvalidation_1-logloss:0.027345\n",
      "[147]\tvalidation_0-error:0.00725\tvalidation_0-logloss:0.025944\tvalidation_1-error:0.00796\tvalidation_1-logloss:0.027281\n",
      "[148]\tvalidation_0-error:0.00725\tvalidation_0-logloss:0.025896\tvalidation_1-error:0.00796\tvalidation_1-logloss:0.027227\n",
      "[149]\tvalidation_0-error:0.00725\tvalidation_0-logloss:0.02581\tvalidation_1-error:0.00796\tvalidation_1-logloss:0.027153\n",
      "[150]\tvalidation_0-error:0.00725\tvalidation_0-logloss:0.025648\tvalidation_1-error:0.00796\tvalidation_1-logloss:0.026985\n",
      "[151]\tvalidation_0-error:0.007248\tvalidation_0-logloss:0.025514\tvalidation_1-error:0.00796\tvalidation_1-logloss:0.026859\n",
      "[152]\tvalidation_0-error:0.007248\tvalidation_0-logloss:0.025418\tvalidation_1-error:0.00796\tvalidation_1-logloss:0.026815\n",
      "[153]\tvalidation_0-error:0.007228\tvalidation_0-logloss:0.02536\tvalidation_1-error:0.007919\tvalidation_1-logloss:0.026746\n",
      "[154]\tvalidation_0-error:0.007228\tvalidation_0-logloss:0.025295\tvalidation_1-error:0.007919\tvalidation_1-logloss:0.026687\n",
      "[155]\tvalidation_0-error:0.007225\tvalidation_0-logloss:0.025158\tvalidation_1-error:0.007909\tvalidation_1-logloss:0.026537\n",
      "[156]\tvalidation_0-error:0.007228\tvalidation_0-logloss:0.025039\tvalidation_1-error:0.007919\tvalidation_1-logloss:0.026429\n",
      "[157]\tvalidation_0-error:0.007228\tvalidation_0-logloss:0.024985\tvalidation_1-error:0.007919\tvalidation_1-logloss:0.026355\n",
      "[158]\tvalidation_0-error:0.007228\tvalidation_0-logloss:0.024934\tvalidation_1-error:0.007919\tvalidation_1-logloss:0.026296\n",
      "[159]\tvalidation_0-error:0.007371\tvalidation_0-logloss:0.024819\tvalidation_1-error:0.00806\tvalidation_1-logloss:0.02618\n",
      "[160]\tvalidation_0-error:0.007371\tvalidation_0-logloss:0.024766\tvalidation_1-error:0.00806\tvalidation_1-logloss:0.026139\n",
      "[161]\tvalidation_0-error:0.007371\tvalidation_0-logloss:0.024725\tvalidation_1-error:0.00806\tvalidation_1-logloss:0.026093\n",
      "[162]\tvalidation_0-error:0.007371\tvalidation_0-logloss:0.024688\tvalidation_1-error:0.00806\tvalidation_1-logloss:0.026043\n",
      "[163]\tvalidation_0-error:0.007371\tvalidation_0-logloss:0.024637\tvalidation_1-error:0.00806\tvalidation_1-logloss:0.026003\n",
      "[164]\tvalidation_0-error:0.007374\tvalidation_0-logloss:0.024505\tvalidation_1-error:0.00806\tvalidation_1-logloss:0.025904\n",
      "[165]\tvalidation_0-error:0.007218\tvalidation_0-logloss:0.024373\tvalidation_1-error:0.007899\tvalidation_1-logloss:0.025775\n",
      "[166]\tvalidation_0-error:0.007218\tvalidation_0-logloss:0.024347\tvalidation_1-error:0.007899\tvalidation_1-logloss:0.025743\n",
      "[167]\tvalidation_0-error:0.007213\tvalidation_0-logloss:0.024307\tvalidation_1-error:0.007879\tvalidation_1-logloss:0.025707\n",
      "[168]\tvalidation_0-error:0.007359\tvalidation_0-logloss:0.024281\tvalidation_1-error:0.00803\tvalidation_1-logloss:0.025659\n",
      "[169]\tvalidation_0-error:0.007213\tvalidation_0-logloss:0.024165\tvalidation_1-error:0.007879\tvalidation_1-logloss:0.025541\n",
      "[170]\tvalidation_0-error:0.007359\tvalidation_0-logloss:0.024071\tvalidation_1-error:0.00803\tvalidation_1-logloss:0.025438\n",
      "[171]\tvalidation_0-error:0.007359\tvalidation_0-logloss:0.024042\tvalidation_1-error:0.00803\tvalidation_1-logloss:0.025402\n",
      "[172]\tvalidation_0-error:0.007359\tvalidation_0-logloss:0.024012\tvalidation_1-error:0.00803\tvalidation_1-logloss:0.025375\n",
      "[173]\tvalidation_0-error:0.007359\tvalidation_0-logloss:0.023967\tvalidation_1-error:0.00803\tvalidation_1-logloss:0.025334\n",
      "[174]\tvalidation_0-error:0.007359\tvalidation_0-logloss:0.023881\tvalidation_1-error:0.00803\tvalidation_1-logloss:0.02525\n",
      "[175]\tvalidation_0-error:0.007359\tvalidation_0-logloss:0.023836\tvalidation_1-error:0.00803\tvalidation_1-logloss:0.025204\n",
      "[176]\tvalidation_0-error:0.007359\tvalidation_0-logloss:0.023753\tvalidation_1-error:0.00803\tvalidation_1-logloss:0.025122\n",
      "[177]\tvalidation_0-error:0.007359\tvalidation_0-logloss:0.023721\tvalidation_1-error:0.00803\tvalidation_1-logloss:0.025096\n",
      "[178]\tvalidation_0-error:0.007213\tvalidation_0-logloss:0.023626\tvalidation_1-error:0.007879\tvalidation_1-logloss:0.024998\n",
      "[179]\tvalidation_0-error:0.007213\tvalidation_0-logloss:0.023557\tvalidation_1-error:0.007879\tvalidation_1-logloss:0.024922\n",
      "[180]\tvalidation_0-error:0.007359\tvalidation_0-logloss:0.023517\tvalidation_1-error:0.00803\tvalidation_1-logloss:0.024867\n",
      "[181]\tvalidation_0-error:0.007359\tvalidation_0-logloss:0.023482\tvalidation_1-error:0.00803\tvalidation_1-logloss:0.02483\n",
      "[182]\tvalidation_0-error:0.007359\tvalidation_0-logloss:0.023393\tvalidation_1-error:0.00803\tvalidation_1-logloss:0.02481\n",
      "[183]\tvalidation_0-error:0.007359\tvalidation_0-logloss:0.023361\tvalidation_1-error:0.00803\tvalidation_1-logloss:0.024787\n",
      "[184]\tvalidation_0-error:0.007359\tvalidation_0-logloss:0.023337\tvalidation_1-error:0.00803\tvalidation_1-logloss:0.024761\n",
      "[185]\tvalidation_0-error:0.007359\tvalidation_0-logloss:0.023254\tvalidation_1-error:0.00803\tvalidation_1-logloss:0.024681\n",
      "[186]\tvalidation_0-error:0.007361\tvalidation_0-logloss:0.023174\tvalidation_1-error:0.00803\tvalidation_1-logloss:0.024615\n",
      "[187]\tvalidation_0-error:0.007361\tvalidation_0-logloss:0.023151\tvalidation_1-error:0.00803\tvalidation_1-logloss:0.024588\n",
      "[188]\tvalidation_0-error:0.007361\tvalidation_0-logloss:0.023133\tvalidation_1-error:0.00803\tvalidation_1-logloss:0.024549\n",
      "[189]\tvalidation_0-error:0.007361\tvalidation_0-logloss:0.023065\tvalidation_1-error:0.00803\tvalidation_1-logloss:0.024491\n",
      "[190]\tvalidation_0-error:0.007361\tvalidation_0-logloss:0.023051\tvalidation_1-error:0.00803\tvalidation_1-logloss:0.024464\n",
      "[191]\tvalidation_0-error:0.007361\tvalidation_0-logloss:0.023021\tvalidation_1-error:0.00803\tvalidation_1-logloss:0.024439\n",
      "[192]\tvalidation_0-error:0.007361\tvalidation_0-logloss:0.023008\tvalidation_1-error:0.00803\tvalidation_1-logloss:0.024416\n",
      "[193]\tvalidation_0-error:0.007361\tvalidation_0-logloss:0.022932\tvalidation_1-error:0.00803\tvalidation_1-logloss:0.024353\n",
      "[194]\tvalidation_0-error:0.007364\tvalidation_0-logloss:0.022918\tvalidation_1-error:0.00803\tvalidation_1-logloss:0.02433\n",
      "[195]\tvalidation_0-error:0.007361\tvalidation_0-logloss:0.022853\tvalidation_1-error:0.00803\tvalidation_1-logloss:0.024275\n",
      "[196]\tvalidation_0-error:0.007361\tvalidation_0-logloss:0.02283\tvalidation_1-error:0.00803\tvalidation_1-logloss:0.024255\n",
      "[197]\tvalidation_0-error:0.007361\tvalidation_0-logloss:0.022815\tvalidation_1-error:0.00803\tvalidation_1-logloss:0.024237\n",
      "[198]\tvalidation_0-error:0.007361\tvalidation_0-logloss:0.022747\tvalidation_1-error:0.00803\tvalidation_1-logloss:0.024162\n",
      "[199]\tvalidation_0-error:0.007361\tvalidation_0-logloss:0.022673\tvalidation_1-error:0.00803\tvalidation_1-logloss:0.024115\n",
      "[200]\tvalidation_0-error:0.007361\tvalidation_0-logloss:0.022659\tvalidation_1-error:0.00803\tvalidation_1-logloss:0.024085\n",
      "[201]\tvalidation_0-error:0.007361\tvalidation_0-logloss:0.022646\tvalidation_1-error:0.00803\tvalidation_1-logloss:0.024085\n",
      "[202]\tvalidation_0-error:0.006948\tvalidation_0-logloss:0.022571\tvalidation_1-error:0.007628\tvalidation_1-logloss:0.023992\n"
     ]
    },
    {
     "name": "stdout",
     "output_type": "stream",
     "text": [
      "[203]\tvalidation_0-error:0.006941\tvalidation_0-logloss:0.022557\tvalidation_1-error:0.007628\tvalidation_1-logloss:0.023977\n",
      "[204]\tvalidation_0-error:0.007087\tvalidation_0-logloss:0.022506\tvalidation_1-error:0.007779\tvalidation_1-logloss:0.023914\n",
      "[205]\tvalidation_0-error:0.007087\tvalidation_0-logloss:0.022489\tvalidation_1-error:0.007779\tvalidation_1-logloss:0.023896\n",
      "[206]\tvalidation_0-error:0.007087\tvalidation_0-logloss:0.022467\tvalidation_1-error:0.007779\tvalidation_1-logloss:0.023883\n",
      "[207]\tvalidation_0-error:0.007087\tvalidation_0-logloss:0.022446\tvalidation_1-error:0.007779\tvalidation_1-logloss:0.023854\n",
      "[208]\tvalidation_0-error:0.007087\tvalidation_0-logloss:0.022391\tvalidation_1-error:0.007779\tvalidation_1-logloss:0.023797\n",
      "[209]\tvalidation_0-error:0.007087\tvalidation_0-logloss:0.022347\tvalidation_1-error:0.007779\tvalidation_1-logloss:0.023783\n",
      "[210]\tvalidation_0-error:0.007087\tvalidation_0-logloss:0.022304\tvalidation_1-error:0.007779\tvalidation_1-logloss:0.023725\n",
      "[211]\tvalidation_0-error:0.007089\tvalidation_0-logloss:0.022255\tvalidation_1-error:0.007779\tvalidation_1-logloss:0.02368\n",
      "[212]\tvalidation_0-error:0.007089\tvalidation_0-logloss:0.022194\tvalidation_1-error:0.007779\tvalidation_1-logloss:0.023624\n",
      "[213]\tvalidation_0-error:0.007089\tvalidation_0-logloss:0.022179\tvalidation_1-error:0.007779\tvalidation_1-logloss:0.023614\n",
      "[214]\tvalidation_0-error:0.006943\tvalidation_0-logloss:0.022119\tvalidation_1-error:0.007628\tvalidation_1-logloss:0.023549\n",
      "[215]\tvalidation_0-error:0.006928\tvalidation_0-logloss:0.022112\tvalidation_1-error:0.007608\tvalidation_1-logloss:0.023539\n",
      "[216]\tvalidation_0-error:0.006928\tvalidation_0-logloss:0.022067\tvalidation_1-error:0.007597\tvalidation_1-logloss:0.023491\n",
      "[217]\tvalidation_0-error:0.006928\tvalidation_0-logloss:0.022056\tvalidation_1-error:0.007597\tvalidation_1-logloss:0.02348\n",
      "[218]\tvalidation_0-error:0.006928\tvalidation_0-logloss:0.022046\tvalidation_1-error:0.007608\tvalidation_1-logloss:0.023469\n",
      "[219]\tvalidation_0-error:0.006928\tvalidation_0-logloss:0.022033\tvalidation_1-error:0.007608\tvalidation_1-logloss:0.023457\n",
      "[220]\tvalidation_0-error:0.007074\tvalidation_0-logloss:0.021995\tvalidation_1-error:0.007758\tvalidation_1-logloss:0.023412\n",
      "[221]\tvalidation_0-error:0.007089\tvalidation_0-logloss:0.02195\tvalidation_1-error:0.007769\tvalidation_1-logloss:0.023373\n",
      "[222]\tvalidation_0-error:0.006943\tvalidation_0-logloss:0.021927\tvalidation_1-error:0.007618\tvalidation_1-logloss:0.023347\n",
      "[223]\tvalidation_0-error:0.006928\tvalidation_0-logloss:0.021913\tvalidation_1-error:0.007597\tvalidation_1-logloss:0.023339\n",
      "[224]\tvalidation_0-error:0.006926\tvalidation_0-logloss:0.021904\tvalidation_1-error:0.007597\tvalidation_1-logloss:0.023327\n",
      "[225]\tvalidation_0-error:0.006926\tvalidation_0-logloss:0.021852\tvalidation_1-error:0.007597\tvalidation_1-logloss:0.023268\n",
      "[226]\tvalidation_0-error:0.006926\tvalidation_0-logloss:0.021806\tvalidation_1-error:0.007597\tvalidation_1-logloss:0.023233\n",
      "[227]\tvalidation_0-error:0.006926\tvalidation_0-logloss:0.021796\tvalidation_1-error:0.007597\tvalidation_1-logloss:0.023206\n",
      "[228]\tvalidation_0-error:0.006926\tvalidation_0-logloss:0.021789\tvalidation_1-error:0.007597\tvalidation_1-logloss:0.023195\n",
      "[229]\tvalidation_0-error:0.006926\tvalidation_0-logloss:0.021742\tvalidation_1-error:0.007597\tvalidation_1-logloss:0.023146\n",
      "[230]\tvalidation_0-error:0.006926\tvalidation_0-logloss:0.021734\tvalidation_1-error:0.007597\tvalidation_1-logloss:0.023138\n",
      "[231]\tvalidation_0-error:0.006926\tvalidation_0-logloss:0.021725\tvalidation_1-error:0.007597\tvalidation_1-logloss:0.023127\n",
      "[232]\tvalidation_0-error:0.006923\tvalidation_0-logloss:0.021683\tvalidation_1-error:0.007597\tvalidation_1-logloss:0.023084\n",
      "[233]\tvalidation_0-error:0.006923\tvalidation_0-logloss:0.021645\tvalidation_1-error:0.007597\tvalidation_1-logloss:0.023054\n",
      "[234]\tvalidation_0-error:0.006923\tvalidation_0-logloss:0.021638\tvalidation_1-error:0.007597\tvalidation_1-logloss:0.023046\n",
      "[235]\tvalidation_0-error:0.006923\tvalidation_0-logloss:0.021619\tvalidation_1-error:0.007597\tvalidation_1-logloss:0.023037\n",
      "[236]\tvalidation_0-error:0.006923\tvalidation_0-logloss:0.021567\tvalidation_1-error:0.007597\tvalidation_1-logloss:0.02299\n",
      "[237]\tvalidation_0-error:0.006926\tvalidation_0-logloss:0.021559\tvalidation_1-error:0.007597\tvalidation_1-logloss:0.022981\n",
      "[238]\tvalidation_0-error:0.006926\tvalidation_0-logloss:0.021552\tvalidation_1-error:0.007597\tvalidation_1-logloss:0.022977\n",
      "[239]\tvalidation_0-error:0.006913\tvalidation_0-logloss:0.021517\tvalidation_1-error:0.007587\tvalidation_1-logloss:0.022942\n",
      "[240]\tvalidation_0-error:0.006913\tvalidation_0-logloss:0.021491\tvalidation_1-error:0.007587\tvalidation_1-logloss:0.022908\n",
      "[241]\tvalidation_0-error:0.006913\tvalidation_0-logloss:0.021447\tvalidation_1-error:0.007587\tvalidation_1-logloss:0.022866\n",
      "[242]\tvalidation_0-error:0.006913\tvalidation_0-logloss:0.021442\tvalidation_1-error:0.007587\tvalidation_1-logloss:0.022858\n",
      "[243]\tvalidation_0-error:0.006913\tvalidation_0-logloss:0.021424\tvalidation_1-error:0.007587\tvalidation_1-logloss:0.022844\n",
      "[244]\tvalidation_0-error:0.006913\tvalidation_0-logloss:0.021346\tvalidation_1-error:0.007577\tvalidation_1-logloss:0.022782\n",
      "[245]\tvalidation_0-error:0.006913\tvalidation_0-logloss:0.02134\tvalidation_1-error:0.007577\tvalidation_1-logloss:0.022779\n",
      "[246]\tvalidation_0-error:0.006913\tvalidation_0-logloss:0.021337\tvalidation_1-error:0.007587\tvalidation_1-logloss:0.022769\n",
      "[247]\tvalidation_0-error:0.006913\tvalidation_0-logloss:0.021332\tvalidation_1-error:0.007587\tvalidation_1-logloss:0.022763\n",
      "[248]\tvalidation_0-error:0.006913\tvalidation_0-logloss:0.021267\tvalidation_1-error:0.007577\tvalidation_1-logloss:0.022706\n",
      "[249]\tvalidation_0-error:0.006913\tvalidation_0-logloss:0.021261\tvalidation_1-error:0.007587\tvalidation_1-logloss:0.022701\n",
      "[250]\tvalidation_0-error:0.006923\tvalidation_0-logloss:0.021255\tvalidation_1-error:0.007597\tvalidation_1-logloss:0.022689\n",
      "[251]\tvalidation_0-error:0.006923\tvalidation_0-logloss:0.021221\tvalidation_1-error:0.007597\tvalidation_1-logloss:0.02266\n",
      "[252]\tvalidation_0-error:0.006923\tvalidation_0-logloss:0.021213\tvalidation_1-error:0.007587\tvalidation_1-logloss:0.022651\n",
      "[253]\tvalidation_0-error:0.006923\tvalidation_0-logloss:0.021195\tvalidation_1-error:0.007587\tvalidation_1-logloss:0.022647\n",
      "[254]\tvalidation_0-error:0.006923\tvalidation_0-logloss:0.021189\tvalidation_1-error:0.007587\tvalidation_1-logloss:0.022636\n",
      "[255]\tvalidation_0-error:0.006923\tvalidation_0-logloss:0.021164\tvalidation_1-error:0.007587\tvalidation_1-logloss:0.022614\n",
      "[256]\tvalidation_0-error:0.006923\tvalidation_0-logloss:0.021154\tvalidation_1-error:0.007587\tvalidation_1-logloss:0.022607\n",
      "[257]\tvalidation_0-error:0.006923\tvalidation_0-logloss:0.02115\tvalidation_1-error:0.007587\tvalidation_1-logloss:0.022604\n",
      "[258]\tvalidation_0-error:0.006923\tvalidation_0-logloss:0.021149\tvalidation_1-error:0.007587\tvalidation_1-logloss:0.022599\n",
      "[259]\tvalidation_0-error:0.006926\tvalidation_0-logloss:0.021076\tvalidation_1-error:0.007608\tvalidation_1-logloss:0.022539\n",
      "[260]\tvalidation_0-error:0.006928\tvalidation_0-logloss:0.02107\tvalidation_1-error:0.007608\tvalidation_1-logloss:0.022534\n",
      "[261]\tvalidation_0-error:0.006926\tvalidation_0-logloss:0.021036\tvalidation_1-error:0.007608\tvalidation_1-logloss:0.0225\n",
      "[262]\tvalidation_0-error:0.006911\tvalidation_0-logloss:0.020955\tvalidation_1-error:0.007577\tvalidation_1-logloss:0.022418\n",
      "[263]\tvalidation_0-error:0.006916\tvalidation_0-logloss:0.020934\tvalidation_1-error:0.007597\tvalidation_1-logloss:0.022395\n",
      "[264]\tvalidation_0-error:0.006911\tvalidation_0-logloss:0.020923\tvalidation_1-error:0.007577\tvalidation_1-logloss:0.022391\n",
      "[265]\tvalidation_0-error:0.006911\tvalidation_0-logloss:0.02092\tvalidation_1-error:0.007577\tvalidation_1-logloss:0.022387\n",
      "[266]\tvalidation_0-error:0.006898\tvalidation_0-logloss:0.0209\tvalidation_1-error:0.007577\tvalidation_1-logloss:0.022357\n",
      "[267]\tvalidation_0-error:0.006903\tvalidation_0-logloss:0.020839\tvalidation_1-error:0.007597\tvalidation_1-logloss:0.022302\n",
      "[268]\tvalidation_0-error:0.006903\tvalidation_0-logloss:0.020784\tvalidation_1-error:0.007597\tvalidation_1-logloss:0.022273\n",
      "[269]\tvalidation_0-error:0.006903\tvalidation_0-logloss:0.02078\tvalidation_1-error:0.007597\tvalidation_1-logloss:0.022269\n",
      "[270]\tvalidation_0-error:0.006901\tvalidation_0-logloss:0.020758\tvalidation_1-error:0.007608\tvalidation_1-logloss:0.02225\n"
     ]
    },
    {
     "name": "stdout",
     "output_type": "stream",
     "text": [
      "[271]\tvalidation_0-error:0.006896\tvalidation_0-logloss:0.020755\tvalidation_1-error:0.007587\tvalidation_1-logloss:0.022246\n",
      "[272]\tvalidation_0-error:0.006896\tvalidation_0-logloss:0.020725\tvalidation_1-error:0.007587\tvalidation_1-logloss:0.022219\n",
      "[273]\tvalidation_0-error:0.006896\tvalidation_0-logloss:0.020724\tvalidation_1-error:0.007587\tvalidation_1-logloss:0.022215\n",
      "[274]\tvalidation_0-error:0.006896\tvalidation_0-logloss:0.020721\tvalidation_1-error:0.007587\tvalidation_1-logloss:0.02221\n",
      "[275]\tvalidation_0-error:0.006896\tvalidation_0-logloss:0.020717\tvalidation_1-error:0.007587\tvalidation_1-logloss:0.022208\n",
      "[276]\tvalidation_0-error:0.006896\tvalidation_0-logloss:0.020706\tvalidation_1-error:0.007587\tvalidation_1-logloss:0.022199\n",
      "[277]\tvalidation_0-error:0.006893\tvalidation_0-logloss:0.02069\tvalidation_1-error:0.007577\tvalidation_1-logloss:0.022173\n",
      "[278]\tvalidation_0-error:0.006893\tvalidation_0-logloss:0.020688\tvalidation_1-error:0.007577\tvalidation_1-logloss:0.022171\n",
      "[279]\tvalidation_0-error:0.006893\tvalidation_0-logloss:0.020678\tvalidation_1-error:0.007577\tvalidation_1-logloss:0.02217\n",
      "[280]\tvalidation_0-error:0.006893\tvalidation_0-logloss:0.020654\tvalidation_1-error:0.007577\tvalidation_1-logloss:0.022149\n",
      "[281]\tvalidation_0-error:0.006893\tvalidation_0-logloss:0.020653\tvalidation_1-error:0.007577\tvalidation_1-logloss:0.022146\n",
      "[282]\tvalidation_0-error:0.006898\tvalidation_0-logloss:0.020621\tvalidation_1-error:0.007597\tvalidation_1-logloss:0.022116\n",
      "[283]\tvalidation_0-error:0.006898\tvalidation_0-logloss:0.020618\tvalidation_1-error:0.007597\tvalidation_1-logloss:0.022113\n",
      "[284]\tvalidation_0-error:0.006898\tvalidation_0-logloss:0.020613\tvalidation_1-error:0.007597\tvalidation_1-logloss:0.022112\n",
      "[285]\tvalidation_0-error:0.006898\tvalidation_0-logloss:0.020608\tvalidation_1-error:0.007597\tvalidation_1-logloss:0.022106\n",
      "[286]\tvalidation_0-error:0.006893\tvalidation_0-logloss:0.020603\tvalidation_1-error:0.007597\tvalidation_1-logloss:0.022104\n",
      "[287]\tvalidation_0-error:0.006888\tvalidation_0-logloss:0.020602\tvalidation_1-error:0.007577\tvalidation_1-logloss:0.022103\n",
      "[288]\tvalidation_0-error:0.006883\tvalidation_0-logloss:0.020568\tvalidation_1-error:0.007597\tvalidation_1-logloss:0.022078\n",
      "[289]\tvalidation_0-error:0.006883\tvalidation_0-logloss:0.020534\tvalidation_1-error:0.007608\tvalidation_1-logloss:0.022045\n",
      "[290]\tvalidation_0-error:0.006878\tvalidation_0-logloss:0.020516\tvalidation_1-error:0.007608\tvalidation_1-logloss:0.022029\n",
      "[291]\tvalidation_0-error:0.006878\tvalidation_0-logloss:0.020487\tvalidation_1-error:0.007608\tvalidation_1-logloss:0.022003\n",
      "[292]\tvalidation_0-error:0.006878\tvalidation_0-logloss:0.020482\tvalidation_1-error:0.007608\tvalidation_1-logloss:0.022\n",
      "[293]\tvalidation_0-error:0.006878\tvalidation_0-logloss:0.020481\tvalidation_1-error:0.007608\tvalidation_1-logloss:0.021998\n",
      "[294]\tvalidation_0-error:0.006878\tvalidation_0-logloss:0.020479\tvalidation_1-error:0.007608\tvalidation_1-logloss:0.021997\n",
      "[295]\tvalidation_0-error:0.006878\tvalidation_0-logloss:0.020476\tvalidation_1-error:0.007608\tvalidation_1-logloss:0.021996\n",
      "[296]\tvalidation_0-error:0.006878\tvalidation_0-logloss:0.020471\tvalidation_1-error:0.007597\tvalidation_1-logloss:0.021992\n",
      "[297]\tvalidation_0-error:0.006876\tvalidation_0-logloss:0.020458\tvalidation_1-error:0.007597\tvalidation_1-logloss:0.021975\n",
      "[298]\tvalidation_0-error:0.006881\tvalidation_0-logloss:0.02045\tvalidation_1-error:0.007597\tvalidation_1-logloss:0.021966\n",
      "[299]\tvalidation_0-error:0.006878\tvalidation_0-logloss:0.020445\tvalidation_1-error:0.007597\tvalidation_1-logloss:0.021961\n",
      "[300]\tvalidation_0-error:0.006878\tvalidation_0-logloss:0.020444\tvalidation_1-error:0.007597\tvalidation_1-logloss:0.021961\n",
      "[301]\tvalidation_0-error:0.006881\tvalidation_0-logloss:0.02041\tvalidation_1-error:0.007597\tvalidation_1-logloss:0.021929\n",
      "[302]\tvalidation_0-error:0.006881\tvalidation_0-logloss:0.020399\tvalidation_1-error:0.007597\tvalidation_1-logloss:0.021916\n",
      "[303]\tvalidation_0-error:0.006881\tvalidation_0-logloss:0.020372\tvalidation_1-error:0.007597\tvalidation_1-logloss:0.021892\n",
      "[304]\tvalidation_0-error:0.006881\tvalidation_0-logloss:0.020369\tvalidation_1-error:0.007597\tvalidation_1-logloss:0.021891\n",
      "[305]\tvalidation_0-error:0.006881\tvalidation_0-logloss:0.020365\tvalidation_1-error:0.007597\tvalidation_1-logloss:0.021888\n",
      "[306]\tvalidation_0-error:0.006881\tvalidation_0-logloss:0.02034\tvalidation_1-error:0.007597\tvalidation_1-logloss:0.021866\n",
      "[307]\tvalidation_0-error:0.006845\tvalidation_0-logloss:0.02029\tvalidation_1-error:0.007547\tvalidation_1-logloss:0.021806\n",
      "[308]\tvalidation_0-error:0.006845\tvalidation_0-logloss:0.020276\tvalidation_1-error:0.007547\tvalidation_1-logloss:0.021794\n",
      "[309]\tvalidation_0-error:0.006845\tvalidation_0-logloss:0.020271\tvalidation_1-error:0.007547\tvalidation_1-logloss:0.02179\n",
      "[310]\tvalidation_0-error:0.006845\tvalidation_0-logloss:0.020262\tvalidation_1-error:0.007547\tvalidation_1-logloss:0.02178\n",
      "[311]\tvalidation_0-error:0.006838\tvalidation_0-logloss:0.020259\tvalidation_1-error:0.007537\tvalidation_1-logloss:0.021778\n",
      "[312]\tvalidation_0-error:0.006838\tvalidation_0-logloss:0.020254\tvalidation_1-error:0.007537\tvalidation_1-logloss:0.021777\n",
      "[313]\tvalidation_0-error:0.006838\tvalidation_0-logloss:0.020231\tvalidation_1-error:0.007537\tvalidation_1-logloss:0.021755\n",
      "[314]\tvalidation_0-error:0.006835\tvalidation_0-logloss:0.02022\tvalidation_1-error:0.007537\tvalidation_1-logloss:0.021744\n",
      "[315]\tvalidation_0-error:0.006838\tvalidation_0-logloss:0.020223\tvalidation_1-error:0.007537\tvalidation_1-logloss:0.021743\n",
      "[316]\tvalidation_0-error:0.006835\tvalidation_0-logloss:0.020215\tvalidation_1-error:0.007537\tvalidation_1-logloss:0.021742\n",
      "[317]\tvalidation_0-error:0.00683\tvalidation_0-logloss:0.020216\tvalidation_1-error:0.007517\tvalidation_1-logloss:0.021739\n",
      "[318]\tvalidation_0-error:0.00683\tvalidation_0-logloss:0.020215\tvalidation_1-error:0.007517\tvalidation_1-logloss:0.021738\n",
      "[319]\tvalidation_0-error:0.00683\tvalidation_0-logloss:0.020192\tvalidation_1-error:0.007517\tvalidation_1-logloss:0.02172\n",
      "[320]\tvalidation_0-error:0.00683\tvalidation_0-logloss:0.020165\tvalidation_1-error:0.007517\tvalidation_1-logloss:0.021699\n",
      "[321]\tvalidation_0-error:0.00683\tvalidation_0-logloss:0.020114\tvalidation_1-error:0.007517\tvalidation_1-logloss:0.021646\n",
      "[322]\tvalidation_0-error:0.00683\tvalidation_0-logloss:0.020112\tvalidation_1-error:0.007517\tvalidation_1-logloss:0.021644\n",
      "[323]\tvalidation_0-error:0.00683\tvalidation_0-logloss:0.020093\tvalidation_1-error:0.007517\tvalidation_1-logloss:0.021626\n",
      "[324]\tvalidation_0-error:0.00683\tvalidation_0-logloss:0.020042\tvalidation_1-error:0.007517\tvalidation_1-logloss:0.021573\n",
      "[325]\tvalidation_0-error:0.00683\tvalidation_0-logloss:0.020034\tvalidation_1-error:0.007517\tvalidation_1-logloss:0.021561\n",
      "[326]\tvalidation_0-error:0.00683\tvalidation_0-logloss:0.020031\tvalidation_1-error:0.007517\tvalidation_1-logloss:0.021562\n",
      "[327]\tvalidation_0-error:0.00683\tvalidation_0-logloss:0.020029\tvalidation_1-error:0.007517\tvalidation_1-logloss:0.02156\n",
      "[328]\tvalidation_0-error:0.00683\tvalidation_0-logloss:0.020017\tvalidation_1-error:0.007517\tvalidation_1-logloss:0.02155\n",
      "[329]\tvalidation_0-error:0.00683\tvalidation_0-logloss:0.019997\tvalidation_1-error:0.007517\tvalidation_1-logloss:0.021534\n",
      "[330]\tvalidation_0-error:0.00683\tvalidation_0-logloss:0.019998\tvalidation_1-error:0.007517\tvalidation_1-logloss:0.021533\n",
      "[331]\tvalidation_0-error:0.00683\tvalidation_0-logloss:0.019977\tvalidation_1-error:0.007517\tvalidation_1-logloss:0.021515\n",
      "[332]\tvalidation_0-error:0.00683\tvalidation_0-logloss:0.019976\tvalidation_1-error:0.007517\tvalidation_1-logloss:0.021514\n",
      "[333]\tvalidation_0-error:0.00683\tvalidation_0-logloss:0.01995\tvalidation_1-error:0.007517\tvalidation_1-logloss:0.021497\n",
      "[334]\tvalidation_0-error:0.006488\tvalidation_0-logloss:0.019905\tvalidation_1-error:0.007104\tvalidation_1-logloss:0.021448\n",
      "[335]\tvalidation_0-error:0.006488\tvalidation_0-logloss:0.019903\tvalidation_1-error:0.007104\tvalidation_1-logloss:0.021438\n",
      "[336]\tvalidation_0-error:0.006488\tvalidation_0-logloss:0.019899\tvalidation_1-error:0.007104\tvalidation_1-logloss:0.021437\n",
      "[337]\tvalidation_0-error:0.006488\tvalidation_0-logloss:0.019885\tvalidation_1-error:0.007104\tvalidation_1-logloss:0.021426\n",
      "[338]\tvalidation_0-error:0.006488\tvalidation_0-logloss:0.019849\tvalidation_1-error:0.007104\tvalidation_1-logloss:0.021385\n"
     ]
    },
    {
     "name": "stdout",
     "output_type": "stream",
     "text": [
      "[339]\tvalidation_0-error:0.006488\tvalidation_0-logloss:0.019848\tvalidation_1-error:0.007104\tvalidation_1-logloss:0.021383\n",
      "[340]\tvalidation_0-error:0.006488\tvalidation_0-logloss:0.019834\tvalidation_1-error:0.007104\tvalidation_1-logloss:0.021374\n",
      "[341]\tvalidation_0-error:0.006488\tvalidation_0-logloss:0.019815\tvalidation_1-error:0.007104\tvalidation_1-logloss:0.021356\n",
      "[342]\tvalidation_0-error:0.006488\tvalidation_0-logloss:0.019808\tvalidation_1-error:0.007104\tvalidation_1-logloss:0.021349\n",
      "[343]\tvalidation_0-error:0.006488\tvalidation_0-logloss:0.019807\tvalidation_1-error:0.007104\tvalidation_1-logloss:0.021346\n",
      "[344]\tvalidation_0-error:0.006488\tvalidation_0-logloss:0.019805\tvalidation_1-error:0.007104\tvalidation_1-logloss:0.021345\n",
      "[345]\tvalidation_0-error:0.006488\tvalidation_0-logloss:0.019802\tvalidation_1-error:0.007104\tvalidation_1-logloss:0.021345\n",
      "[346]\tvalidation_0-error:0.006488\tvalidation_0-logloss:0.019792\tvalidation_1-error:0.007104\tvalidation_1-logloss:0.021333\n",
      "[347]\tvalidation_0-error:0.006488\tvalidation_0-logloss:0.01977\tvalidation_1-error:0.007104\tvalidation_1-logloss:0.021317\n",
      "[348]\tvalidation_0-error:0.006488\tvalidation_0-logloss:0.019768\tvalidation_1-error:0.007104\tvalidation_1-logloss:0.021316\n",
      "[349]\tvalidation_0-error:0.006488\tvalidation_0-logloss:0.019756\tvalidation_1-error:0.007104\tvalidation_1-logloss:0.021306\n",
      "[350]\tvalidation_0-error:0.006488\tvalidation_0-logloss:0.019721\tvalidation_1-error:0.007104\tvalidation_1-logloss:0.021268\n",
      "[351]\tvalidation_0-error:0.006488\tvalidation_0-logloss:0.01972\tvalidation_1-error:0.007104\tvalidation_1-logloss:0.021268\n",
      "[352]\tvalidation_0-error:0.006488\tvalidation_0-logloss:0.019719\tvalidation_1-error:0.007104\tvalidation_1-logloss:0.021267\n",
      "[353]\tvalidation_0-error:0.006488\tvalidation_0-logloss:0.019715\tvalidation_1-error:0.007104\tvalidation_1-logloss:0.021263\n",
      "[354]\tvalidation_0-error:0.006488\tvalidation_0-logloss:0.019714\tvalidation_1-error:0.007104\tvalidation_1-logloss:0.021262\n",
      "[355]\tvalidation_0-error:0.006486\tvalidation_0-logloss:0.019701\tvalidation_1-error:0.007104\tvalidation_1-logloss:0.021252\n",
      "[356]\tvalidation_0-error:0.006486\tvalidation_0-logloss:0.019665\tvalidation_1-error:0.007104\tvalidation_1-logloss:0.021217\n",
      "[357]\tvalidation_0-error:0.006486\tvalidation_0-logloss:0.01966\tvalidation_1-error:0.007104\tvalidation_1-logloss:0.021214\n",
      "[358]\tvalidation_0-error:0.006486\tvalidation_0-logloss:0.019646\tvalidation_1-error:0.007104\tvalidation_1-logloss:0.0212\n",
      "[359]\tvalidation_0-error:0.006486\tvalidation_0-logloss:0.01962\tvalidation_1-error:0.007104\tvalidation_1-logloss:0.02117\n",
      "[360]\tvalidation_0-error:0.006486\tvalidation_0-logloss:0.019616\tvalidation_1-error:0.007104\tvalidation_1-logloss:0.021169\n",
      "[361]\tvalidation_0-error:0.006486\tvalidation_0-logloss:0.019612\tvalidation_1-error:0.007104\tvalidation_1-logloss:0.021168\n",
      "[362]\tvalidation_0-error:0.006486\tvalidation_0-logloss:0.019584\tvalidation_1-error:0.007104\tvalidation_1-logloss:0.021137\n",
      "[363]\tvalidation_0-error:0.006486\tvalidation_0-logloss:0.019583\tvalidation_1-error:0.007104\tvalidation_1-logloss:0.021136\n",
      "[364]\tvalidation_0-error:0.006216\tvalidation_0-logloss:0.019567\tvalidation_1-error:0.006853\tvalidation_1-logloss:0.021123\n",
      "[365]\tvalidation_0-error:0.006216\tvalidation_0-logloss:0.019564\tvalidation_1-error:0.006853\tvalidation_1-logloss:0.021122\n",
      "[366]\tvalidation_0-error:0.006216\tvalidation_0-logloss:0.019563\tvalidation_1-error:0.006853\tvalidation_1-logloss:0.021121\n",
      "[367]\tvalidation_0-error:0.006216\tvalidation_0-logloss:0.01956\tvalidation_1-error:0.006853\tvalidation_1-logloss:0.021119\n",
      "[368]\tvalidation_0-error:0.006216\tvalidation_0-logloss:0.01956\tvalidation_1-error:0.006853\tvalidation_1-logloss:0.021118\n",
      "[369]\tvalidation_0-error:0.006214\tvalidation_0-logloss:0.019543\tvalidation_1-error:0.006853\tvalidation_1-logloss:0.021107\n",
      "[370]\tvalidation_0-error:0.006211\tvalidation_0-logloss:0.019533\tvalidation_1-error:0.006853\tvalidation_1-logloss:0.021102\n",
      "[371]\tvalidation_0-error:0.006211\tvalidation_0-logloss:0.019531\tvalidation_1-error:0.006853\tvalidation_1-logloss:0.0211\n",
      "[372]\tvalidation_0-error:0.006211\tvalidation_0-logloss:0.019526\tvalidation_1-error:0.006853\tvalidation_1-logloss:0.021093\n",
      "[373]\tvalidation_0-error:0.006211\tvalidation_0-logloss:0.019525\tvalidation_1-error:0.006853\tvalidation_1-logloss:0.021093\n",
      "[374]\tvalidation_0-error:0.006214\tvalidation_0-logloss:0.019519\tvalidation_1-error:0.006873\tvalidation_1-logloss:0.021088\n",
      "[375]\tvalidation_0-error:0.006211\tvalidation_0-logloss:0.019495\tvalidation_1-error:0.006873\tvalidation_1-logloss:0.021068\n",
      "[376]\tvalidation_0-error:0.006211\tvalidation_0-logloss:0.019491\tvalidation_1-error:0.006873\tvalidation_1-logloss:0.021065\n",
      "[377]\tvalidation_0-error:0.006216\tvalidation_0-logloss:0.019488\tvalidation_1-error:0.006873\tvalidation_1-logloss:0.021062\n",
      "[378]\tvalidation_0-error:0.006216\tvalidation_0-logloss:0.019489\tvalidation_1-error:0.006873\tvalidation_1-logloss:0.021061\n",
      "[379]\tvalidation_0-error:0.006201\tvalidation_0-logloss:0.019451\tvalidation_1-error:0.006813\tvalidation_1-logloss:0.021034\n",
      "[380]\tvalidation_0-error:0.006201\tvalidation_0-logloss:0.019439\tvalidation_1-error:0.006813\tvalidation_1-logloss:0.021022\n",
      "[381]\tvalidation_0-error:0.006201\tvalidation_0-logloss:0.019425\tvalidation_1-error:0.006813\tvalidation_1-logloss:0.021011\n",
      "[382]\tvalidation_0-error:0.006201\tvalidation_0-logloss:0.01942\tvalidation_1-error:0.006813\tvalidation_1-logloss:0.021005\n",
      "[383]\tvalidation_0-error:0.006201\tvalidation_0-logloss:0.019419\tvalidation_1-error:0.006813\tvalidation_1-logloss:0.021004\n",
      "[384]\tvalidation_0-error:0.006199\tvalidation_0-logloss:0.019409\tvalidation_1-error:0.006813\tvalidation_1-logloss:0.020999\n",
      "[385]\tvalidation_0-error:0.006199\tvalidation_0-logloss:0.019388\tvalidation_1-error:0.006813\tvalidation_1-logloss:0.020972\n",
      "[386]\tvalidation_0-error:0.006199\tvalidation_0-logloss:0.019387\tvalidation_1-error:0.006813\tvalidation_1-logloss:0.02097\n",
      "[387]\tvalidation_0-error:0.006196\tvalidation_0-logloss:0.019382\tvalidation_1-error:0.006813\tvalidation_1-logloss:0.020968\n",
      "[388]\tvalidation_0-error:0.006196\tvalidation_0-logloss:0.019366\tvalidation_1-error:0.006813\tvalidation_1-logloss:0.020951\n",
      "[389]\tvalidation_0-error:0.006201\tvalidation_0-logloss:0.019363\tvalidation_1-error:0.006813\tvalidation_1-logloss:0.020948\n",
      "[390]\tvalidation_0-error:0.006201\tvalidation_0-logloss:0.019361\tvalidation_1-error:0.006813\tvalidation_1-logloss:0.020947\n",
      "[391]\tvalidation_0-error:0.006201\tvalidation_0-logloss:0.019357\tvalidation_1-error:0.006813\tvalidation_1-logloss:0.020945\n",
      "[392]\tvalidation_0-error:0.006201\tvalidation_0-logloss:0.019357\tvalidation_1-error:0.006813\tvalidation_1-logloss:0.020946\n",
      "[393]\tvalidation_0-error:0.006201\tvalidation_0-logloss:0.019357\tvalidation_1-error:0.006813\tvalidation_1-logloss:0.020945\n",
      "[394]\tvalidation_0-error:0.006196\tvalidation_0-logloss:0.019338\tvalidation_1-error:0.006813\tvalidation_1-logloss:0.020932\n",
      "[395]\tvalidation_0-error:0.006189\tvalidation_0-logloss:0.01932\tvalidation_1-error:0.006813\tvalidation_1-logloss:0.020916\n",
      "[396]\tvalidation_0-error:0.006186\tvalidation_0-logloss:0.019303\tvalidation_1-error:0.006813\tvalidation_1-logloss:0.020905\n",
      "[397]\tvalidation_0-error:0.006186\tvalidation_0-logloss:0.019301\tvalidation_1-error:0.006813\tvalidation_1-logloss:0.020904\n",
      "[398]\tvalidation_0-error:0.006186\tvalidation_0-logloss:0.019299\tvalidation_1-error:0.006813\tvalidation_1-logloss:0.020901\n",
      "[399]\tvalidation_0-error:0.006184\tvalidation_0-logloss:0.01927\tvalidation_1-error:0.006813\tvalidation_1-logloss:0.020878\n"
     ]
    },
    {
     "data": {
      "text/plain": [
       "XGBClassifier(base_score=0.5, booster='gbtree', colsample_bylevel=1,\n",
       "              colsample_bynode=1, colsample_bytree=1, gamma=0,\n",
       "              learning_rate=0.05, max_delta_step=0, max_depth=3,\n",
       "              min_child_weight=1, missing=None, n_estimators=400, n_jobs=1,\n",
       "              nthread=None, objective='binary:logistic', random_state=0,\n",
       "              reg_alpha=0, reg_lambda=1, scale_pos_weight=1, seed=None,\n",
       "              silent=None, subsample=1, verbosity=1)"
      ]
     },
     "execution_count": 183,
     "metadata": {},
     "output_type": "execute_result"
    }
   ],
   "source": [
    "model_XG=XGBClassifier(n_estimators=400, learning_rate=0.05)\n",
    "eval_set = [(X_train, y_train), (X_test, y_test)]\n",
    "model_XG.fit(X_train, y_train, early_stopping_rounds=10,eval_metric=['error','logloss'],eval_set =eval_set, verbose=True)"
   ]
  },
  {
   "cell_type": "code",
   "execution_count": 184,
   "metadata": {},
   "outputs": [
    {
     "name": "stdout",
     "output_type": "stream",
     "text": [
      "[0.32145783 0.42336908 0.0933499  0.12173174 0.04009141]\n"
     ]
    },
    {
     "data": {
      "image/png": "[encoded data removed]",
      "text/plain": [
       "<Figure size 432x288 with 1 Axes>"
      ]
     },
     "metadata": {
      "needs_background": "light"
     },
     "output_type": "display_data"
    }
   ],
   "source": [
    "# plot feature importance manually\n",
    "from numpy import loadtxt\n",
    "from xgboost import XGBClassifier\n",
    "from matplotlib import pyplot\n",
    "\n",
    "# feature importance\n",
    "print(model_XG.feature_importances_)\n",
    "# plot\n",
    "pyplot.bar(range(len(model_XG.feature_importances_)), model_XG.feature_importances_)\n",
    "pyplot.show()"
   ]
  },
  {
   "cell_type": "code",
   "execution_count": 185,
   "metadata": {},
   "outputs": [],
   "source": [
    "# make predictions for test data\n",
    "y_pred=model_XG.predict(X_test)\n",
    "predictions = [round(value) for value in y_pred]"
   ]
  },
  {
   "cell_type": "code",
   "execution_count": 186,
   "metadata": {},
   "outputs": [
    {
     "data": {
      "text/plain": [
       "0.9931874213836478"
      ]
     },
     "execution_count": 186,
     "metadata": {},
     "output_type": "execute_result"
    }
   ],
   "source": [
    "# evaluate predictions\n",
    "accuracy= accuracy_score(y_test, predictions)\n",
    "accuracy"
   ]
  },
  {
   "cell_type": "code",
   "execution_count": 187,
   "metadata": {},
   "outputs": [
    {
     "data": {
      "text/plain": [
       "array([[81230,   500],\n",
       "       [  177, 17468]], dtype=int64)"
      ]
     },
     "execution_count": 187,
     "metadata": {},
     "output_type": "execute_result"
    }
   ],
   "source": [
    "# Making the Confusion Matrix\n",
    "from sklearn.metrics import classification_report,confusion_matrix\n",
    "cm = confusion_matrix(y_test, y_pred)\n",
    "cm"
   ]
  },
  {
   "cell_type": "code",
   "execution_count": 188,
   "metadata": {},
   "outputs": [
    {
     "name": "stdout",
     "output_type": "stream",
     "text": [
      "              precision    recall  f1-score   support\n",
      "\n",
      "           0       1.00      0.99      1.00     81730\n",
      "           1       0.97      0.99      0.98     17645\n",
      "\n",
      "    accuracy                           0.99     99375\n",
      "   macro avg       0.98      0.99      0.99     99375\n",
      "weighted avg       0.99      0.99      0.99     99375\n",
      "\n"
     ]
    }
   ],
   "source": [
    "from sklearn.metrics import classification_report\n",
    "print(classification_report(y_test, y_pred))"
   ]
  },
  {
   "cell_type": "code",
   "execution_count": 189,
   "metadata": {},
   "outputs": [],
   "source": [
    "predicted_probas = pd.DataFrame(model_XG.predict_proba(X_test))"
   ]
  },
  {
   "cell_type": "code",
   "execution_count": 190,
   "metadata": {},
   "outputs": [
    {
     "data": {
      "image/png": "[encoded data removed]",
      "text/plain": [
       "<Figure size 432x288 with 1 Axes>"
      ]
     },
     "metadata": {
      "needs_background": "light"
     },
     "output_type": "display_data"
    }
   ],
   "source": [
    "# retrieve performance metrics\n",
    "results = model_XG.evals_result()\n",
    "epochs = len(results['validation_0']['error'])\n",
    "x_axis = range(0, epochs)\n",
    "\n",
    "# plot log loss\n",
    "from matplotlib import pyplot\n",
    "fig, ax = pyplot.subplots()\n",
    "ax.plot(x_axis, results['validation_0']['logloss'], label='Train')\n",
    "ax.plot(x_axis, results['validation_1']['logloss'], label='Test')\n",
    "ax.legend()\n",
    "pyplot.ylabel('Log Loss')\n",
    "pyplot.title('XGBoost Log Loss')\n",
    "pyplot.show()"
   ]
  },
  {
   "cell_type": "code",
   "execution_count": 191,
   "metadata": {},
   "outputs": [
    {
     "data": {
      "image/png": "[encoded data removed]",
      "text/plain": [
       "<Figure size 432x288 with 1 Axes>"
      ]
     },
     "metadata": {
      "needs_background": "light"
     },
     "output_type": "display_data"
    }
   ],
   "source": [
    "# plot classification error\n",
    "fig, ax = pyplot.subplots()\n",
    "ax.plot(x_axis, results['validation_0']['error'], label='Train')\n",
    "ax.plot(x_axis, results['validation_1']['error'], label='Test')\n",
    "ax.legend()\n",
    "pyplot.ylabel('Classification Error')\n",
    "pyplot.title('XGBoost Classification Error')\n",
    "pyplot.show()"
   ]
  },
  {
   "cell_type": "code",
   "execution_count": 114,
   "metadata": {},
   "outputs": [
    {
     "name": "stdout",
     "output_type": "stream",
     "text": [
      "Accuracy: 99.38% (0.06%)\n"
     ]
    }
   ],
   "source": [
    "# k-fold cross validation evaluation of xgboost model\n",
    "from numpy import loadtxt\n",
    "import xgboost\n",
    "from sklearn.model_selection import KFold\n",
    "from sklearn.model_selection import cross_val_score\n",
    "# CV model\n",
    "accuracy = cross_val_score(model_XG, X=X_train, y=y_train, cv=10)\n",
    "accuracy.mean()\n",
    "accuracy.std()\n",
    "print(\"Accuracy: %.2f%% (%.2f%%)\" % (accuracy.mean()*100, accuracy.std()*100))"
   ]
  },
  {
   "cell_type": "code",
   "execution_count": 192,
   "metadata": {},
   "outputs": [],
   "source": [
    "from sklearn.metrics import roc_auc_score\n",
    "from sklearn.metrics import roc_curve"
   ]
  },
  {
   "cell_type": "code",
   "execution_count": 193,
   "metadata": {},
   "outputs": [],
   "source": [
    "fpr, tpr, thresholds = roc_curve(y_test, model_XG.predict_proba(X_test)[:,1])"
   ]
  },
  {
   "cell_type": "code",
   "execution_count": 194,
   "metadata": {},
   "outputs": [
    {
     "data": {
      "text/plain": [
       "array([0.        , 0.        , 0.        , ..., 0.99993882, 0.99995106,\n",
       "       1.        ])"
      ]
     },
     "execution_count": 194,
     "metadata": {},
     "output_type": "execute_result"
    }
   ],
   "source": [
    "fpr"
   ]
  },
  {
   "cell_type": "code",
   "execution_count": 195,
   "metadata": {},
   "outputs": [
    {
     "data": {
      "text/plain": [
       "array([0.        , 0.30728252, 0.30813262, ..., 1.        , 1.        ,\n",
       "       1.        ])"
      ]
     },
     "execution_count": 195,
     "metadata": {},
     "output_type": "execute_result"
    }
   ],
   "source": [
    "tpr"
   ]
  },
  {
   "cell_type": "code",
   "execution_count": 196,
   "metadata": {},
   "outputs": [
    {
     "data": {
      "text/plain": [
       "array([1.9999959e+00, 9.9999595e-01, 9.9999559e-01, ..., 2.9180425e-08,\n",
       "       2.8419613e-08, 2.6228207e-08], dtype=float32)"
      ]
     },
     "execution_count": 196,
     "metadata": {},
     "output_type": "execute_result"
    }
   ],
   "source": [
    "thresholds"
   ]
  },
  {
   "cell_type": "code",
   "execution_count": 197,
   "metadata": {},
   "outputs": [],
   "source": [
    "xg_roc_auc1=roc_auc_score(y_test,model_XG.predict(X_test))"
   ]
  },
  {
   "cell_type": "code",
   "execution_count": 198,
   "metadata": {},
   "outputs": [
    {
     "data": {
      "text/plain": [
       "0.9919255625297889"
      ]
     },
     "execution_count": 198,
     "metadata": {},
     "output_type": "execute_result"
    }
   ],
   "source": [
    "xg_roc_auc1"
   ]
  },
  {
   "cell_type": "code",
   "execution_count": 199,
   "metadata": {},
   "outputs": [
    {
     "data": {
      "image/png": "[encoded data removed]",
      "text/plain": [
       "<Figure size 432x288 with 1 Axes>"
      ]
     },
     "metadata": {
      "needs_background": "light"
     },
     "output_type": "display_data"
    }
   ],
   "source": [
    "import matplotlib.pyplot as plt\n",
    "plt.figure()\n",
    "plt.plot(fpr, tpr, label='XG Classification :- %0.3f' % xg_roc_auc1)\n",
    "plt.plot([0,1],[0,1], 'r--')\n",
    "plt.xlim([0.0,1.0])\n",
    "plt.ylim([0.0,1.05])\n",
    "plt.xlabel('False Positive Rate')\n",
    "plt.ylabel('True Positive Rate')\n",
    "plt.title('ROC')\n",
    "plt.legend(loc='lower right')\n",
    "plt.savefig('XG_ROC')\n",
    "plt.show()"
   ]
  },
  {
   "cell_type": "markdown",
   "metadata": {},
   "source": [
    "Gini Coefficient"
   ]
  },
  {
   "cell_type": "code",
   "execution_count": 200,
   "metadata": {},
   "outputs": [
    {
     "data": {
      "text/plain": [
       "0.9838511250595778"
      ]
     },
     "execution_count": 200,
     "metadata": {},
     "output_type": "execute_result"
    }
   ],
   "source": [
    "Gini=2*xg_roc_auc1-1\n",
    "Gini"
   ]
  },
  {
   "cell_type": "code",
   "execution_count": 201,
   "metadata": {},
   "outputs": [
    {
     "data": {
      "image/png": "[encoded data removed]",
      "text/plain": [
       "<Figure size 432x288 with 1 Axes>"
      ]
     },
     "metadata": {
      "needs_background": "light"
     },
     "output_type": "display_data"
    }
   ],
   "source": [
    "import matplotlib.pyplot as plt\n",
    "\n",
    "import scikitplot as skplt\n",
    "\n",
    "skplt.metrics.plot_cumulative_gain(y_test, predicted_probas)\n",
    "\n",
    "plt.show()"
   ]
  },
  {
   "cell_type": "code",
   "execution_count": 203,
   "metadata": {},
   "outputs": [],
   "source": [
    "predicted_probas=predicted_probas.rename({0:'zero',1:'p'},axis='columns')"
   ]
  },
  {
   "cell_type": "code",
   "execution_count": 204,
   "metadata": {},
   "outputs": [],
   "source": [
    "y_test = pd.DataFrame(y_test)"
   ]
  },
  {
   "cell_type": "code",
   "execution_count": 205,
   "metadata": {},
   "outputs": [],
   "source": [
    "y_test = y_test.rename({0:'y'},axis='columns')"
   ]
  },
  {
   "cell_type": "code",
   "execution_count": 208,
   "metadata": {},
   "outputs": [],
   "source": [
    "col=['p']\n",
    "predicted_probas=predicted_probas[col]"
   ]
  },
  {
   "cell_type": "code",
   "execution_count": 210,
   "metadata": {},
   "outputs": [
    {
     "data": {
      "text/html": [
       "<div>\n",
       "<style scoped>\n",
       "    .dataframe tbody tr th:only-of-type {\n",
       "        vertical-align: middle;\n",
       "    }\n",
       "\n",
       "    .dataframe tbody tr th {\n",
       "        vertical-align: top;\n",
       "    }\n",
       "\n",
       "    .dataframe thead th {\n",
       "        text-align: right;\n",
       "    }\n",
       "</style>\n",
       "<table border=\"1\" class=\"dataframe\">\n",
       "  <thead>\n",
       "    <tr style=\"text-align: right;\">\n",
       "      <th></th>\n",
       "      <th>p</th>\n",
       "      <th>y</th>\n",
       "    </tr>\n",
       "  </thead>\n",
       "  <tbody>\n",
       "    <tr>\n",
       "      <th>0</th>\n",
       "      <td>9.999959e-01</td>\n",
       "      <td>1</td>\n",
       "    </tr>\n",
       "    <tr>\n",
       "      <th>1</th>\n",
       "      <td>4.540277e-07</td>\n",
       "      <td>0</td>\n",
       "    </tr>\n",
       "    <tr>\n",
       "      <th>2</th>\n",
       "      <td>8.656946e-05</td>\n",
       "      <td>0</td>\n",
       "    </tr>\n",
       "    <tr>\n",
       "      <th>3</th>\n",
       "      <td>2.258450e-05</td>\n",
       "      <td>0</td>\n",
       "    </tr>\n",
       "    <tr>\n",
       "      <th>4</th>\n",
       "      <td>7.149963e-05</td>\n",
       "      <td>0</td>\n",
       "    </tr>\n",
       "    <tr>\n",
       "      <th>...</th>\n",
       "      <td>...</td>\n",
       "      <td>...</td>\n",
       "    </tr>\n",
       "    <tr>\n",
       "      <th>99370</th>\n",
       "      <td>4.789154e-04</td>\n",
       "      <td>0</td>\n",
       "    </tr>\n",
       "    <tr>\n",
       "      <th>99371</th>\n",
       "      <td>1.149512e-04</td>\n",
       "      <td>0</td>\n",
       "    </tr>\n",
       "    <tr>\n",
       "      <th>99372</th>\n",
       "      <td>7.110003e-07</td>\n",
       "      <td>0</td>\n",
       "    </tr>\n",
       "    <tr>\n",
       "      <th>99373</th>\n",
       "      <td>3.503407e-04</td>\n",
       "      <td>0</td>\n",
       "    </tr>\n",
       "    <tr>\n",
       "      <th>99374</th>\n",
       "      <td>9.881065e-01</td>\n",
       "      <td>1</td>\n",
       "    </tr>\n",
       "  </tbody>\n",
       "</table>\n",
       "<p>99375 rows × 2 columns</p>\n",
       "</div>"
      ],
      "text/plain": [
       "                  p  y\n",
       "0      9.999959e-01  1\n",
       "1      4.540277e-07  0\n",
       "2      8.656946e-05  0\n",
       "3      2.258450e-05  0\n",
       "4      7.149963e-05  0\n",
       "...             ... ..\n",
       "99370  4.789154e-04  0\n",
       "99371  1.149512e-04  0\n",
       "99372  7.110003e-07  0\n",
       "99373  3.503407e-04  0\n",
       "99374  9.881065e-01  1\n",
       "\n",
       "[99375 rows x 2 columns]"
      ]
     },
     "execution_count": 210,
     "metadata": {},
     "output_type": "execute_result"
    }
   ],
   "source": [
    "df= pd.concat([predicted_probas,y_test],axis=1)\n",
    "df"
   ]
  },
  {
   "cell_type": "markdown",
   "metadata": {},
   "source": [
    "1---->Create deciles based on predicted probability columns which means dividing probability into 10 parts. First decile should contain highest probability score.\n",
    "\n",
    "2---->Calculate the cumulative % of match and non-match in each decile and then compute the difference between these two cumulative distribution."
   ]
  },
  {
   "cell_type": "code",
   "execution_count": 222,
   "metadata": {},
   "outputs": [],
   "source": [
    "def ks(data=None,target=None, prob=None):\n",
    "    data['target0'] = 1 - data[target]\n",
    "    data['bucket'] = pd.qcut(data[prob], 10)\n",
    "    grouped = data.groupby('bucket', as_index = False)\n",
    "    kstable = pd.DataFrame()\n",
    "    kstable['min_prob'] = grouped.min()[prob]\n",
    "    kstable['max_prob'] = grouped.max()[prob]\n",
    "    kstable['matchs']   = grouped.sum()[target]\n",
    "    kstable['nonmatchs'] = grouped.sum()['target0']\n",
    "    kstable = kstable.sort_values(by=\"min_prob\", ascending=False).reset_index(drop = True)\n",
    "    kstable['match_rate'] = (kstable.matchs / data[target].sum()).apply('{0:.2%}'.format)\n",
    "    kstable['nonmatch_rate'] = (kstable.nonmatchs / data['target0'].sum()).apply('{0:.2%}'.format)\n",
    "    kstable['cum_matchrate']=(kstable.matchs / data[target].sum()).cumsum()\n",
    "    kstable['cum_nonmatchrate']=(kstable.nonmatchs / data['target0'].sum()).cumsum()\n",
    "    kstable['KS'] = np.round(kstable['cum_matchrate']-kstable['cum_nonmatchrate'], 3) * 100\n",
    "\n",
    "    #Formating\n",
    "    kstable['cum_matchrate']= kstable['cum_matchrate'].apply('{0:.2%}'.format)\n",
    "    kstable['cum_nonmatchrate']= kstable['cum_nonmatchrate'].apply('{0:.2%}'.format)\n",
    "    kstable.index = range(1,11)\n",
    "    kstable.index.rename('Decile', inplace=True)\n",
    "    pd.set_option('display.max_columns', 9)\n",
    "    print(kstable)\n",
    "\n",
    "  #Display KS\n",
    "    from colorama import Fore\n",
    "    print(Fore.RED + \"KS is \" + str(max(kstable['KS']))+\"%\"+ \" at decile \" + str((kstable.index[kstable['KS']==max(kstable['KS'])][0])))\n",
    "    return(kstable)"
   ]
  },
  {
   "cell_type": "markdown",
   "metadata": {},
   "source": [
    "1---->KS is where the difference is maximum"
   ]
  },
  {
   "cell_type": "code",
   "execution_count": 223,
   "metadata": {},
   "outputs": [
    {
     "name": "stdout",
     "output_type": "stream",
     "text": [
      "            min_prob      max_prob  matchs  nonmatchs match_rate  \\\n",
      "Decile                                                             \n",
      "1       9.944277e-01  9.999959e-01    9785          0     55.45%   \n",
      "2       2.849326e-03  9.940069e-01    7858       2204     44.53%   \n",
      "3       4.208696e-04  2.843747e-03       2       9957      0.01%   \n",
      "4       1.774721e-04  4.207992e-04       0       9787      0.00%   \n",
      "5       9.684565e-05  1.765809e-04       0       9878      0.00%   \n",
      "6       7.091620e-05  9.589123e-05       0       9524      0.00%   \n",
      "7       2.257518e-05  7.084610e-05       0       9405      0.00%   \n",
      "8       9.584629e-07  2.237806e-05       0      10751      0.00%   \n",
      "9       4.729391e-07  9.577146e-07       0       9568      0.00%   \n",
      "10      2.622821e-08  4.540277e-07       0      10656      0.00%   \n",
      "\n",
      "       nonmatch_rate cum_matchrate cum_nonmatchrate    KS  \n",
      "Decile                                                     \n",
      "1              0.00%        55.45%            0.00%  55.5  \n",
      "2              2.70%        99.99%            2.70%  97.3  \n",
      "3             12.18%       100.00%           14.88%  85.1  \n",
      "4             11.97%       100.00%           26.85%  73.1  \n",
      "5             12.09%       100.00%           38.94%  61.1  \n",
      "6             11.65%       100.00%           50.59%  49.4  \n",
      "7             11.51%       100.00%           62.10%  37.9  \n",
      "8             13.15%       100.00%           75.26%  24.7  \n",
      "9             11.71%       100.00%           86.96%  13.0  \n",
      "10            13.04%       100.00%          100.00%   0.0  \n",
      "\u001b[31mKS is 97.3% at decile 2\n"
     ]
    }
   ],
   "source": [
    "mydf = ks(data=df,target=\"y\", prob=\"p\")"
   ]
  },
  {
   "cell_type": "code",
   "execution_count": 224,
   "metadata": {},
   "outputs": [],
   "source": [
    "writer=pd.ExcelWriter('mydf.xlsx',engine='xlsxwriter')\n",
    "mydf.to_excel(writer)\n",
    "writer.save()"
   ]
  },
  {
   "cell_type": "code",
   "execution_count": 215,
   "metadata": {},
   "outputs": [],
   "source": [
    "from scipy.stats import ks_2samp"
   ]
  },
  {
   "cell_type": "code",
   "execution_count": 216,
   "metadata": {},
   "outputs": [
    {
     "data": {
      "text/plain": [
       "Ks_2sampResult(statistic=0.9884773197845389, pvalue=0.0)"
      ]
     },
     "execution_count": 216,
     "metadata": {},
     "output_type": "execute_result"
    }
   ],
   "source": [
    "ks_2samp(df.loc[df.y==0,\"p\"], df.loc[df.y==1,\"p\"])"
   ]
  }
 ],
 "metadata": {
  "kernelspec": {
   "display_name": "Python 3",
   "language": "python",
   "name": "python3"
  },
  "language_info": {
   "codemirror_mode": {
    "name": "ipython",
    "version": 3
   },
   "file_extension": ".py",
   "mimetype": "text/x-python",
   "name": "python",
   "nbconvert_exporter": "python",
   "pygments_lexer": "ipython3",
   "version": "3.7.6"
  }
 },
 "nbformat": 4,
 "nbformat_minor": 4
}
